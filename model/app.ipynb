{
 "cells": [
  {
   "cell_type": "markdown",
   "id": "34645bc6-d38b-4f63-bd22-d43942fe9626",
   "metadata": {},
   "source": [
    "# Testing the Machine Learning Model\n",
    "\n",
    "I will keep this notebook updated in a way that it can always be used to test the newest version of the NLP model for classifying AI headlines.\n",
    "\n",
    "For now, you can replace the sentence in the `predict` function call at the last line to get a prediction for whatever sentence you add.\n",
    "\n",
    "TODO: add option for a graphical interface with Gradio\n",
    "\n",
    "TODO: Check our [multi-label case](https://github.com/abhimishra91/transformers-tutorials/blob/master/transformers_multi_label_classification.ipynb)\n",
    "\n",
    "[this](https://github.com/Dirkster99/PyNotes/blob/master/Transformers/LocalModelUsage_Finetuning/30%20MultiClass%20Classification%20in%2010%20Minutes%20with%20BERT-TensorFlow-SoftMax-LocalModel.ipynb) may help too?"
   ]
  },
  {
   "cell_type": "code",
   "execution_count": 8,
   "id": "57ef3181-fe37-4027-93ac-ab1f9fb5873d",
   "metadata": {},
   "outputs": [
    {
     "name": "stdout",
     "output_type": "stream",
     "text": [
      "huggingface/tokenizers: The current process just got forked, after parallelism has already been used. Disabling parallelism to avoid deadlocks...\n",
      "To disable this warning, you can either:\n",
      "\t- Avoid using `tokenizers` before the fork if possible\n",
      "\t- Explicitly set the environment variable TOKENIZERS_PARALLELISM=(true | false)\n"
     ]
    }
   ],
   "source": [
    "# Updates the transformers library to the latest version. WARNING: If you don't have it installed, it's a couple GBs of data.\n",
    "!pip install -Uqq transformers"
   ]
  },
  {
   "cell_type": "code",
   "execution_count": 2,
   "id": "3e658978-6c3f-4c9e-aec8-4dbee296ea67",
   "metadata": {},
   "outputs": [
    {
     "name": "stderr",
     "output_type": "stream",
     "text": [
      "/usr/lib/python3/dist-packages/requests/__init__.py:89: RequestsDependencyWarning: urllib3 (1.26.13) or chardet (3.0.4) doesn't match a supported version!\n",
      "  warnings.warn(\"urllib3 ({}) or chardet ({}) doesn't match a supported \"\n"
     ]
    }
   ],
   "source": [
    "from transformers import TextClassificationPipeline\n",
    "from transformers import AutoTokenizer\n",
    "from transformers import BertForSequenceClassification\n",
    "\n",
    "import json"
   ]
  },
  {
   "cell_type": "code",
   "execution_count": 3,
   "id": "852eb153-8a8b-44bd-83e1-cd3c4c856bb4",
   "metadata": {},
   "outputs": [
    {
     "data": {
      "text/plain": [
       "{'LABEL_0': 'agency',\n",
       " 'LABEL_1': 'humanComparison',\n",
       " 'LABEL_2': 'hyperbole',\n",
       " 'LABEL_3': 'historyComparison',\n",
       " 'LABEL_4': 'unjustClaims',\n",
       " 'LABEL_5': 'deepSounding',\n",
       " 'LABEL_6': 'skeptics',\n",
       " 'LABEL_7': 'deEmphasize',\n",
       " 'LABEL_8': 'performanceNumber',\n",
       " 'LABEL_9': 'inscrutable',\n",
       " 'LABEL_10': 'objective'}"
      ]
     },
     "execution_count": 3,
     "metadata": {},
     "output_type": "execute_result"
    }
   ],
   "source": [
    "names = {}\n",
    "\n",
    "with open('data/data.json') as f:\n",
    "    d = json.load(f)\n",
    "    for i, name in enumerate(d.keys()):\n",
    "        names[f\"LABEL_{i}\"] = name\n",
    "            \n",
    "names"
   ]
  },
  {
   "cell_type": "code",
   "execution_count": 4,
   "id": "8076111a-263c-4701-89f8-97b982f0e3e9",
   "metadata": {},
   "outputs": [
    {
     "name": "stderr",
     "output_type": "stream",
     "text": [
      "/home/xt0r3/.local/lib/python3.8/site-packages/transformers/pipelines/text_classification.py:104: UserWarning: `return_all_scores` is now deprecated,  if want a similar funcionality use `top_k=None` instead of `return_all_scores=True` or `top_k=1` instead of `return_all_scores=False`.\n",
      "  warnings.warn(\n"
     ]
    }
   ],
   "source": [
    "model = BertForSequenceClassification.from_pretrained('test_trainer/checkpoint-500/',local_files_only=True)\n",
    "tokenizer = AutoTokenizer.from_pretrained(\"bert-base-cased\")\n",
    "pipe = TextClassificationPipeline(model=model, tokenizer=tokenizer, return_all_scores=True)"
   ]
  },
  {
   "cell_type": "code",
   "execution_count": 5,
   "id": "7e97eab7-3020-4bcb-9433-482603349148",
   "metadata": {},
   "outputs": [],
   "source": [
    "def predict(text):\n",
    "    preds = pipe(text)[0]\n",
    "    preds = list(map(lambda pred: {\"label\": names[pred[\"label\"]], \"score\": pred[\"score\"]}, preds))\n",
    "    print(preds)"
   ]
  },
  {
   "cell_type": "code",
   "execution_count": 10,
   "id": "841636b7-98ef-4753-a257-cd4ed187e1e2",
   "metadata": {},
   "outputs": [
    {
     "name": "stdout",
     "output_type": "stream",
     "text": [
      "[{'label': 'agency', 'score': 0.0001564613776281476}, {'label': 'humanComparison', 'score': 0.0009414521045982838}, {'label': 'hyperbole', 'score': 0.0003454808611422777}, {'label': 'historyComparison', 'score': 0.0010318453423678875}, {'label': 'unjustClaims', 'score': 0.0004964807303622365}, {'label': 'deepSounding', 'score': 0.99512779712677}, {'label': 'skeptics', 'score': 0.0005015040514990687}, {'label': 'deEmphasize', 'score': 8.166562474798411e-05}, {'label': 'performanceNumber', 'score': 0.00028639606898650527}, {'label': 'inscrutable', 'score': 0.00028850772650912404}, {'label': 'objective', 'score': 0.0007424494251608849}]\n"
     ]
    }
   ],
   "source": [
    "# Predict scores\n",
    "predict(\"Machine Learning is at the forefront of education, replacing human jobs\")\n",
    "# Note that it does a weird prediction, saying that this is a deep-sounding headline, even though it also attributes agency, compares it with humans, uses the hyperbole and \n",
    "# has unjust claims in the headline. \n",
    "# TODO: Find a model suitable for multiple classification?\n",
    "# Check out https://discuss.huggingface.co/t/fine-tune-for-multiclass-or-multilabel-multiclass/4035\n",
    "# Even better: https://github.com/abhimishra91/transformers-tutorials/blob/master/transformers_multi_label_classification.ipynb"
   ]
  },
  {
   "cell_type": "code",
   "execution_count": null,
   "id": "a431be20-399d-4e03-9218-04735199ea45",
   "metadata": {},
   "outputs": [],
   "source": []
  }
 ],
 "metadata": {
  "kernelspec": {
   "display_name": "Python 3 (ipykernel)",
   "language": "python",
   "name": "python3"
  },
  "language_info": {
   "codemirror_mode": {
    "name": "ipython",
    "version": 3
   },
   "file_extension": ".py",
   "mimetype": "text/x-python",
   "name": "python",
   "nbconvert_exporter": "python",
   "pygments_lexer": "ipython3",
   "version": "3.8.10"
  }
 },
 "nbformat": 4,
 "nbformat_minor": 5
}
