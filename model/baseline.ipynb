{
 "cells": [
  {
   "cell_type": "code",
   "execution_count": 1,
   "id": "c83dd301-e810-415b-8911-c0976cddb7af",
   "metadata": {},
   "outputs": [],
   "source": [
    "!pip install sklearn -Uqq"
   ]
  },
  {
   "cell_type": "code",
   "execution_count": 2,
   "id": "ccfd2998-76a3-498d-85d3-ad376140355e",
   "metadata": {},
   "outputs": [],
   "source": [
    "import json\n",
    "import re\n",
    "from collections import defaultdict\n",
    "\n",
    "import matplotlib\n",
    "import matplotlib.pyplot as plt\n",
    "import numpy as np\n",
    "import pandas as pd\n",
    "from nltk.corpus import stopwords\n",
    "from nltk.tokenize import word_tokenize\n",
    "from sklearn.feature_extraction.text import TfidfVectorizer\n",
    "from sklearn.metrics import accuracy_score\n",
    "from sklearn.model_selection import train_test_split\n",
    "from sklearn.multiclass import OneVsRestClassifier\n",
    "from sklearn.naive_bayes import CategoricalNB, MultinomialNB\n",
    "from pathlib import Path\n",
    "\n",
    "stop_words = set(stopwords.words(\"english\"))\n",
    "import seaborn as sns\n",
    "from sklearn.linear_model import LogisticRegression\n",
    "from sklearn.pipeline import Pipeline\n",
    "from sklearn.svm import LinearSVC"
   ]
  },
  {
   "cell_type": "code",
   "execution_count": 3,
   "id": "3f1ed939-7823-4489-82f0-c1e9210899f4",
   "metadata": {},
   "outputs": [
    {
     "data": {
      "text/html": [
       "<div>\n",
       "<style scoped>\n",
       "    .dataframe tbody tr th:only-of-type {\n",
       "        vertical-align: middle;\n",
       "    }\n",
       "\n",
       "    .dataframe tbody tr th {\n",
       "        vertical-align: top;\n",
       "    }\n",
       "\n",
       "    .dataframe thead th {\n",
       "        text-align: right;\n",
       "    }\n",
       "</style>\n",
       "<table border=\"1\" class=\"dataframe\">\n",
       "  <thead>\n",
       "    <tr style=\"text-align: right;\">\n",
       "      <th></th>\n",
       "      <th>text</th>\n",
       "      <th>agency</th>\n",
       "      <th>humanComparison</th>\n",
       "      <th>hyperbole</th>\n",
       "      <th>historyComparison</th>\n",
       "      <th>unjustClaims</th>\n",
       "      <th>deepSounding</th>\n",
       "      <th>sceptics</th>\n",
       "      <th>deEmphasize</th>\n",
       "      <th>performanceNumber</th>\n",
       "      <th>inscrutable</th>\n",
       "      <th>objective</th>\n",
       "    </tr>\n",
       "  </thead>\n",
       "  <tbody>\n",
       "    <tr>\n",
       "      <th>82</th>\n",
       "      <td>Agents unjustly claim history deep deemphasize...</td>\n",
       "      <td>True</td>\n",
       "      <td>False</td>\n",
       "      <td>False</td>\n",
       "      <td>True</td>\n",
       "      <td>False</td>\n",
       "      <td>True</td>\n",
       "      <td>False</td>\n",
       "      <td>True</td>\n",
       "      <td>False</td>\n",
       "      <td>False</td>\n",
       "      <td>True</td>\n",
       "    </tr>\n",
       "    <tr>\n",
       "      <th>6</th>\n",
       "      <td>Agents unjustly claim history deep deemphasize...</td>\n",
       "      <td>True</td>\n",
       "      <td>False</td>\n",
       "      <td>False</td>\n",
       "      <td>True</td>\n",
       "      <td>False</td>\n",
       "      <td>True</td>\n",
       "      <td>False</td>\n",
       "      <td>True</td>\n",
       "      <td>False</td>\n",
       "      <td>False</td>\n",
       "      <td>True</td>\n",
       "    </tr>\n",
       "    <tr>\n",
       "      <th>83</th>\n",
       "      <td>Agents unjustly claim history deep deemphasize...</td>\n",
       "      <td>True</td>\n",
       "      <td>False</td>\n",
       "      <td>False</td>\n",
       "      <td>True</td>\n",
       "      <td>False</td>\n",
       "      <td>True</td>\n",
       "      <td>False</td>\n",
       "      <td>True</td>\n",
       "      <td>False</td>\n",
       "      <td>False</td>\n",
       "      <td>True</td>\n",
       "    </tr>\n",
       "  </tbody>\n",
       "</table>\n",
       "</div>"
      ],
      "text/plain": [
       "                                                 text  agency  \\\n",
       "82  Agents unjustly claim history deep deemphasize...    True   \n",
       "6   Agents unjustly claim history deep deemphasize...    True   \n",
       "83  Agents unjustly claim history deep deemphasize...    True   \n",
       "\n",
       "    humanComparison  hyperbole  historyComparison  unjustClaims  deepSounding  \\\n",
       "82            False      False               True         False          True   \n",
       "6             False      False               True         False          True   \n",
       "83            False      False               True         False          True   \n",
       "\n",
       "    sceptics  deEmphasize  performanceNumber  inscrutable  objective  \n",
       "82     False         True              False        False       True  \n",
       "6      False         True              False        False       True  \n",
       "83     False         True              False        False       True  "
      ]
     },
     "execution_count": 3,
     "metadata": {},
     "output_type": "execute_result"
    }
   ],
   "source": [
    "dataset = defaultdict(list)\n",
    "path = Path(\"data3/data.json\")\n",
    "\n",
    "with open(path) as f:\n",
    "    d = json.load(f)\n",
    "    for e in d[\"data\"]:\n",
    "        for k, v in e.items():\n",
    "            dataset[k].append(v)\n",
    "            \n",
    "df = pd.DataFrame.from_dict(dataset)\n",
    "\n",
    "df.sample(3)"
   ]
  },
  {
   "cell_type": "code",
   "execution_count": 4,
   "id": "6185ac4a-a5d1-4c1a-be96-9ad178db028f",
   "metadata": {},
   "outputs": [
    {
     "data": {
      "text/plain": [
       "['agency',\n",
       " 'humanComparison',\n",
       " 'hyperbole',\n",
       " 'historyComparison',\n",
       " 'unjustClaims',\n",
       " 'deepSounding',\n",
       " 'sceptics',\n",
       " 'deEmphasize',\n",
       " 'performanceNumber',\n",
       " 'inscrutable',\n",
       " 'objective']"
      ]
     },
     "execution_count": 4,
     "metadata": {},
     "output_type": "execute_result"
    }
   ],
   "source": [
    "labels = [k for k in df.columns if k not in ['text']]\n",
    "labels"
   ]
  },
  {
   "cell_type": "code",
   "execution_count": 5,
   "id": "8f256e7f-97eb-4c57-bb90-a37cee2dfe47",
   "metadata": {},
   "outputs": [
    {
     "data": {
      "text/plain": [
       "[['asdasd'],\n",
       " ['Agents',\n",
       "  'unjustly',\n",
       "  'claim',\n",
       "  'history',\n",
       "  'deep',\n",
       "  'deemphasize',\n",
       "  'objectivel']]"
      ]
     },
     "execution_count": 5,
     "metadata": {},
     "output_type": "execute_result"
    }
   ],
   "source": [
    "dataset[\"text\"] = list(map(lambda text: word_tokenize(text), dataset[\"text\"]))\n",
    "\n",
    "dataset['text'][0:2]"
   ]
  },
  {
   "cell_type": "code",
   "execution_count": 6,
   "id": "6a7628b7-9041-4575-8cf2-217cf52534d4",
   "metadata": {},
   "outputs": [
    {
     "name": "stdout",
     "output_type": "stream",
     "text": [
      "(80,)\n",
      "(20,)\n"
     ]
    }
   ],
   "source": [
    "train, test = train_test_split(df, random_state=42, test_size=0.2, shuffle=True)\n",
    "\n",
    "X_train = train.text\n",
    "X_test = test.text\n",
    "print(X_train.shape)\n",
    "print(X_test.shape)"
   ]
  },
  {
   "cell_type": "code",
   "execution_count": 7,
   "id": "476fcc8c-69e0-4dd8-b526-b860412ae8c4",
   "metadata": {},
   "outputs": [
    {
     "name": "stdout",
     "output_type": "stream",
     "text": [
      "... Processing agency\n",
      "Test accuracy is 1.0\n",
      "... Processing humanComparison\n",
      "Test accuracy is 1.0\n",
      "... Processing hyperbole\n",
      "Test accuracy is 1.0\n",
      "... Processing historyComparison\n",
      "Test accuracy is 1.0\n",
      "... Processing unjustClaims\n",
      "Test accuracy is 1.0\n",
      "... Processing deepSounding\n",
      "Test accuracy is 1.0\n",
      "... Processing sceptics\n",
      "Test accuracy is 1.0\n",
      "... Processing deEmphasize\n",
      "Test accuracy is 1.0\n",
      "... Processing performanceNumber\n",
      "Test accuracy is 1.0\n",
      "... Processing inscrutable\n",
      "Test accuracy is 1.0\n",
      "... Processing objective\n",
      "Test accuracy is 1.0\n"
     ]
    },
    {
     "name": "stderr",
     "output_type": "stream",
     "text": [
      "/home/xt0r3/.local/lib/python3.8/site-packages/sklearn/multiclass.py:77: UserWarning: Label not True is present in all training examples.\n",
      "  warnings.warn(\n",
      "/home/xt0r3/.local/lib/python3.8/site-packages/sklearn/multiclass.py:77: UserWarning: Label not False is present in all training examples.\n",
      "  warnings.warn(\n",
      "/home/xt0r3/.local/lib/python3.8/site-packages/sklearn/multiclass.py:77: UserWarning: Label not False is present in all training examples.\n",
      "  warnings.warn(\n",
      "/home/xt0r3/.local/lib/python3.8/site-packages/sklearn/multiclass.py:77: UserWarning: Label not True is present in all training examples.\n",
      "  warnings.warn(\n",
      "/home/xt0r3/.local/lib/python3.8/site-packages/sklearn/multiclass.py:77: UserWarning: Label not False is present in all training examples.\n",
      "  warnings.warn(\n",
      "/home/xt0r3/.local/lib/python3.8/site-packages/sklearn/multiclass.py:77: UserWarning: Label not True is present in all training examples.\n",
      "  warnings.warn(\n",
      "/home/xt0r3/.local/lib/python3.8/site-packages/sklearn/multiclass.py:77: UserWarning: Label not False is present in all training examples.\n",
      "  warnings.warn(\n",
      "/home/xt0r3/.local/lib/python3.8/site-packages/sklearn/multiclass.py:77: UserWarning: Label not True is present in all training examples.\n",
      "  warnings.warn(\n",
      "/home/xt0r3/.local/lib/python3.8/site-packages/sklearn/multiclass.py:77: UserWarning: Label not False is present in all training examples.\n",
      "  warnings.warn(\n",
      "/home/xt0r3/.local/lib/python3.8/site-packages/sklearn/multiclass.py:77: UserWarning: Label not False is present in all training examples.\n",
      "  warnings.warn(\n",
      "/home/xt0r3/.local/lib/python3.8/site-packages/sklearn/multiclass.py:77: UserWarning: Label not True is present in all training examples.\n",
      "  warnings.warn(\n"
     ]
    }
   ],
   "source": [
    "# Define a pipeline combining a text feature extractor with multi lable classifier\n",
    "NB_pipeline = Pipeline(\n",
    "    [\n",
    "        (\"tfidf\", TfidfVectorizer(stop_words=stop_words)),\n",
    "        (\"clf\", OneVsRestClassifier(MultinomialNB(fit_prior=True, class_prior=None))),\n",
    "    ]\n",
    ")\n",
    "for label in labels:\n",
    "    print(\"... Processing {}\".format(label))\n",
    "    # train the model using X_dtm & y\n",
    "    NB_pipeline.fit(X_train, train[label])\n",
    "    # compute the testing accuracy\n",
    "    prediction = NB_pipeline.predict(X_test)\n",
    "    print(\"Test accuracy is {}\".format(accuracy_score(test[label], prediction)))"
   ]
  },
  {
   "cell_type": "code",
   "execution_count": 8,
   "id": "291b0397-653b-437d-ad2e-3ebf3dabf4bc",
   "metadata": {},
   "outputs": [
    {
     "name": "stdout",
     "output_type": "stream",
     "text": [
      "... Processing agency\n",
      "Test accuracy is 1.0\n",
      "... Processing humanComparison\n",
      "Test accuracy is 1.0\n",
      "... Processing hyperbole\n",
      "Test accuracy is 1.0\n",
      "... Processing historyComparison\n",
      "Test accuracy is 1.0\n",
      "... Processing unjustClaims\n",
      "Test accuracy is 1.0\n",
      "... Processing deepSounding\n",
      "Test accuracy is 1.0\n",
      "... Processing sceptics\n",
      "Test accuracy is 1.0\n",
      "... Processing deEmphasize\n",
      "Test accuracy is 1.0\n",
      "... Processing performanceNumber\n",
      "Test accuracy is 1.0\n",
      "... Processing inscrutable\n",
      "Test accuracy is 1.0\n",
      "... Processing objective\n",
      "Test accuracy is 1.0\n"
     ]
    },
    {
     "name": "stderr",
     "output_type": "stream",
     "text": [
      "/home/xt0r3/.local/lib/python3.8/site-packages/sklearn/multiclass.py:77: UserWarning: Label not True is present in all training examples.\n",
      "  warnings.warn(\n",
      "/home/xt0r3/.local/lib/python3.8/site-packages/sklearn/multiclass.py:77: UserWarning: Label not False is present in all training examples.\n",
      "  warnings.warn(\n",
      "/home/xt0r3/.local/lib/python3.8/site-packages/sklearn/multiclass.py:77: UserWarning: Label not False is present in all training examples.\n",
      "  warnings.warn(\n",
      "/home/xt0r3/.local/lib/python3.8/site-packages/sklearn/multiclass.py:77: UserWarning: Label not True is present in all training examples.\n",
      "  warnings.warn(\n",
      "/home/xt0r3/.local/lib/python3.8/site-packages/sklearn/multiclass.py:77: UserWarning: Label not False is present in all training examples.\n",
      "  warnings.warn(\n",
      "/home/xt0r3/.local/lib/python3.8/site-packages/sklearn/multiclass.py:77: UserWarning: Label not True is present in all training examples.\n",
      "  warnings.warn(\n",
      "/home/xt0r3/.local/lib/python3.8/site-packages/sklearn/multiclass.py:77: UserWarning: Label not False is present in all training examples.\n",
      "  warnings.warn(\n",
      "/home/xt0r3/.local/lib/python3.8/site-packages/sklearn/multiclass.py:77: UserWarning: Label not True is present in all training examples.\n",
      "  warnings.warn(\n",
      "/home/xt0r3/.local/lib/python3.8/site-packages/sklearn/multiclass.py:77: UserWarning: Label not False is present in all training examples.\n",
      "  warnings.warn(\n",
      "/home/xt0r3/.local/lib/python3.8/site-packages/sklearn/multiclass.py:77: UserWarning: Label not False is present in all training examples.\n",
      "  warnings.warn(\n",
      "/home/xt0r3/.local/lib/python3.8/site-packages/sklearn/multiclass.py:77: UserWarning: Label not True is present in all training examples.\n",
      "  warnings.warn(\n"
     ]
    }
   ],
   "source": [
    "SVC_pipeline = Pipeline([\n",
    "                ('tfidf', TfidfVectorizer(stop_words=stop_words)),\n",
    "                ('clf', OneVsRestClassifier(LinearSVC(), n_jobs=1)),\n",
    "            ])\n",
    "for label in labels:\n",
    "    print('... Processing {}'.format(label))\n",
    "    # train the model using X_dtm & y\n",
    "    SVC_pipeline.fit(X_train, train[label])\n",
    "    # compute the testing accuracy\n",
    "    prediction = SVC_pipeline.predict(X_test)\n",
    "    print('Test accuracy is {}'.format(accuracy_score(test[label], prediction)))\n"
   ]
  },
  {
   "cell_type": "code",
   "execution_count": 9,
   "id": "1c60cc8c-746a-4297-ac2f-97547e355250",
   "metadata": {},
   "outputs": [
    {
     "name": "stdout",
     "output_type": "stream",
     "text": [
      "... Processing agency\n",
      "Test accuracy is 1.0\n",
      "... Processing humanComparison\n",
      "Test accuracy is 1.0\n",
      "... Processing hyperbole\n",
      "Test accuracy is 1.0\n",
      "... Processing historyComparison\n",
      "Test accuracy is 1.0\n",
      "... Processing unjustClaims\n",
      "Test accuracy is 1.0\n",
      "... Processing deepSounding\n",
      "Test accuracy is 1.0\n",
      "... Processing sceptics\n",
      "Test accuracy is 1.0\n",
      "... Processing deEmphasize\n",
      "Test accuracy is 1.0\n",
      "... Processing performanceNumber\n",
      "Test accuracy is 1.0\n",
      "... Processing inscrutable\n",
      "Test accuracy is 1.0\n",
      "... Processing objective\n",
      "Test accuracy is 1.0\n"
     ]
    },
    {
     "name": "stderr",
     "output_type": "stream",
     "text": [
      "/home/xt0r3/.local/lib/python3.8/site-packages/sklearn/multiclass.py:77: UserWarning: Label not True is present in all training examples.\n",
      "  warnings.warn(\n",
      "/home/xt0r3/.local/lib/python3.8/site-packages/sklearn/multiclass.py:77: UserWarning: Label not False is present in all training examples.\n",
      "  warnings.warn(\n",
      "/home/xt0r3/.local/lib/python3.8/site-packages/sklearn/multiclass.py:77: UserWarning: Label not False is present in all training examples.\n",
      "  warnings.warn(\n",
      "/home/xt0r3/.local/lib/python3.8/site-packages/sklearn/multiclass.py:77: UserWarning: Label not True is present in all training examples.\n",
      "  warnings.warn(\n",
      "/home/xt0r3/.local/lib/python3.8/site-packages/sklearn/multiclass.py:77: UserWarning: Label not False is present in all training examples.\n",
      "  warnings.warn(\n",
      "/home/xt0r3/.local/lib/python3.8/site-packages/sklearn/multiclass.py:77: UserWarning: Label not True is present in all training examples.\n",
      "  warnings.warn(\n",
      "/home/xt0r3/.local/lib/python3.8/site-packages/sklearn/multiclass.py:77: UserWarning: Label not False is present in all training examples.\n",
      "  warnings.warn(\n",
      "/home/xt0r3/.local/lib/python3.8/site-packages/sklearn/multiclass.py:77: UserWarning: Label not True is present in all training examples.\n",
      "  warnings.warn(\n",
      "/home/xt0r3/.local/lib/python3.8/site-packages/sklearn/multiclass.py:77: UserWarning: Label not False is present in all training examples.\n",
      "  warnings.warn(\n",
      "/home/xt0r3/.local/lib/python3.8/site-packages/sklearn/multiclass.py:77: UserWarning: Label not False is present in all training examples.\n",
      "  warnings.warn(\n",
      "/home/xt0r3/.local/lib/python3.8/site-packages/sklearn/multiclass.py:77: UserWarning: Label not True is present in all training examples.\n",
      "  warnings.warn(\n"
     ]
    }
   ],
   "source": [
    "LogReg_pipeline = Pipeline([\n",
    "                ('tfidf', TfidfVectorizer(stop_words=stop_words)),\n",
    "                ('clf', OneVsRestClassifier(LogisticRegression(solver='sag'), n_jobs=1)),\n",
    "            ])\n",
    "for label in labels:\n",
    "    print('... Processing {}'.format(label))\n",
    "    # train the model using X_dtm & y\n",
    "    LogReg_pipeline.fit(X_train, train[label])\n",
    "    # compute the testing accuracy\n",
    "    prediction = LogReg_pipeline.predict(X_test)\n",
    "    print('Test accuracy is {}'.format(accuracy_score(test[label], prediction)))"
   ]
  }
 ],
 "metadata": {
  "kernelspec": {
   "display_name": "Python 3 (ipykernel)",
   "language": "python",
   "name": "python3"
  },
  "language_info": {
   "codemirror_mode": {
    "name": "ipython",
    "version": 3
   },
   "file_extension": ".py",
   "mimetype": "text/x-python",
   "name": "python",
   "nbconvert_exporter": "python",
   "pygments_lexer": "ipython3",
   "version": "3.8.10"
  }
 },
 "nbformat": 4,
 "nbformat_minor": 5
}
