{
 "cells": [
  {
   "cell_type": "code",
   "execution_count": 7,
   "id": "267afaf2-f29b-4eba-80ee-9b888bf4a359",
   "metadata": {},
   "outputs": [],
   "source": [
    "import json\n",
    "\n",
    "with open('data.json') as f, open(\"data2.json\", \"w\") as w:\n",
    "    d = json.load(f)\n",
    "    e = {\"data\": []}\n",
    "    for k, vv in d.items():\n",
    "        for v in vv:\n",
    "            e[\"data\"].append({\"sentence\": v, \"label\": k})\n",
    "    json.dump(e, w)"
   ]
  },
  {
   "cell_type": "code",
   "execution_count": null,
   "id": "04b7f336-945f-455b-ba17-472bdf5e48c8",
   "metadata": {},
   "outputs": [],
   "source": [
    "for (k, v) in d.items():\n"
   ]
  },
  {
   "cell_type": "code",
   "execution_count": null,
   "id": "db0ef556-8745-4c06-b3d9-535265571f3f",
   "metadata": {},
   "outputs": [],
   "source": []
  }
 ],
 "metadata": {
  "kernelspec": {
   "display_name": "Python 3 (ipykernel)",
   "language": "python",
   "name": "python3"
  },
  "language_info": {
   "codemirror_mode": {
    "name": "ipython",
    "version": 3
   },
   "file_extension": ".py",
   "mimetype": "text/x-python",
   "name": "python",
   "nbconvert_exporter": "python",
   "pygments_lexer": "ipython3",
   "version": "3.8.10"
  }
 },
 "nbformat": 4,
 "nbformat_minor": 5
}
