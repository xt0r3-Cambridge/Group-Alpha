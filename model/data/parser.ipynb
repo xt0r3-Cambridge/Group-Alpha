{
 "cells": [
  {
   "cell_type": "markdown",
   "id": "a17e8563-5e1f-4e2a-93d6-36f017a6790f",
   "metadata": {},
   "source": [
    "# Parser\n",
    "\n",
    "Code to take some files in the output format of the URL scraper, and translate them to the input format of the Python ML models"
   ]
  },
  {
   "cell_type": "code",
   "execution_count": 2,
   "id": "526fee64-684c-4ec2-bb47-d1407e2e09c7",
   "metadata": {},
   "outputs": [],
   "source": [
    "import json"
   ]
  },
  {
   "cell_type": "code",
   "execution_count": 3,
   "id": "2fd110bf-23bb-4f84-ad3e-cdaa0d2bf2ea",
   "metadata": {},
   "outputs": [],
   "source": [
    "FILES = [\"dailymail_lab.json\", \"guardian.json\"]\n",
    "OUTPUT = \"data_to_label_clean.json\""
   ]
  },
  {
   "cell_type": "code",
   "execution_count": 4,
   "id": "d7899a25-86b6-40ac-9368-9f4a215df464",
   "metadata": {},
   "outputs": [],
   "source": [
    "result = {\"data\": []}\n",
    "for file in FILES:\n",
    "    with open(file) as f:\n",
    "        entries = json.load(f)\n",
    "        for entry in entries:\n",
    "            result[\"data\"].append(\n",
    "                {\n",
    "                    \"text\": entry[\"main_heading\"],\n",
    "                    \"agency\": False,\n",
    "                    \"humanComparison\": False,\n",
    "                    \"hyperbole\": False,\n",
    "                    \"historyComparison\": False,\n",
    "                    \"unjustClaims\": False,\n",
    "                    \"deepSounding\": False,\n",
    "                    \"sceptics\": False,\n",
    "                    \"deEmphasize\": False,\n",
    "                    \"performanceNumber\": False,\n",
    "                    \"inscrutable\": False,\n",
    "                    \"objective\": False,\n",
    "                }\n",
    "            )\n",
    "\n",
    "with open(OUTPUT, \"w\") as f:\n",
    "    json.dump(result, f)"
   ]
  },
  {
   "cell_type": "code",
   "execution_count": null,
   "id": "9a5aa983-b351-440e-9b37-fa2b2903c666",
   "metadata": {},
   "outputs": [],
   "source": []
  }
 ],
 "metadata": {
  "kernelspec": {
   "display_name": "Python 3 (ipykernel)",
   "language": "python",
   "name": "python3"
  },
  "language_info": {
   "codemirror_mode": {
    "name": "ipython",
    "version": 3
   },
   "file_extension": ".py",
   "mimetype": "text/x-python",
   "name": "python",
   "nbconvert_exporter": "python",
   "pygments_lexer": "ipython3",
   "version": "3.8.10"
  }
 },
 "nbformat": 4,
 "nbformat_minor": 5
}
