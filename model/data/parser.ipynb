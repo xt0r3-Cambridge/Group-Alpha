{
 "cells": [
  {
   "cell_type": "markdown",
   "id": "a17e8563-5e1f-4e2a-93d6-36f017a6790f",
   "metadata": {},
   "source": [
    "# Parser\n",
    "\n",
    "Code to take some files in the output format of the URL scraper, and translate them to the input format of the Python ML models"
   ]
  },
  {
   "cell_type": "code",
   "execution_count": 1,
   "id": "526fee64-684c-4ec2-bb47-d1407e2e09c7",
   "metadata": {},
   "outputs": [],
   "source": [
    "import json\n",
    "import random\n",
    "from collections import defaultdict"
   ]
  },
  {
   "cell_type": "code",
   "execution_count": 2,
   "id": "2fd110bf-23bb-4f84-ad3e-cdaa0d2bf2ea",
   "metadata": {},
   "outputs": [],
   "source": [
    "FILES = [\"data_sanitized.json\"]\n",
    "OUTPUT = \"sanitized_data_to_label.json\""
   ]
  },
  {
   "cell_type": "code",
   "execution_count": 6,
   "id": "d7899a25-86b6-40ac-9368-9f4a215df464",
   "metadata": {},
   "outputs": [],
   "source": [
    "random.seed(42)\n",
    "\n",
    "result = {\"data\": []}\n",
    "\n",
    "exists = {}\n",
    "keys = defaultdict(None)\n",
    "with open('data_to_label.json') as file:\n",
    "    exists = json.load(file)\n",
    "    keys = defaultdict(lambda: None, {entry['text']: entry for entry in exists['data']})\n",
    "\n",
    "for file in FILES:\n",
    "    with open(file) as f:\n",
    "        entries = json.load(f)\n",
    "        random.shuffle(entries)\n",
    "        for entry in entries:\n",
    "            existing_entry = keys[entry['main_heading']]\n",
    "            if existing_entry:\n",
    "                existing_entry.pop('objective', None)\n",
    "                result['data'].append(existing_entry)\n",
    "            else: \n",
    "                result[\"data\"].append(\n",
    "                    {\n",
    "                        \"text\": entry[\"main_heading\"],\n",
    "                        \"agency\": False,\n",
    "                        \"humanComparison\": False,\n",
    "                        \"hyperbole\": False,\n",
    "                        \"uncriticalHistoryComparison\": False,\n",
    "                        \"unjustifiedClaimsAboutFuture\": False,\n",
    "                        \"deepSounding\": False,\n",
    "                        \"sceptics\": False,\n",
    "                        \"deEmphasize\": False,\n",
    "                        \"performanceNumber\": False,\n",
    "                        \"inscrutable\": False,\n",
    "                    }\n",
    "                )\n",
    "\n",
    "with open(OUTPUT, \"w\") as f:\n",
    "    json.dump(result, f)"
   ]
  },
  {
   "cell_type": "code",
   "execution_count": 13,
   "id": "9a5aa983-b351-440e-9b37-fa2b2903c666",
   "metadata": {},
   "outputs": [],
   "source": [
    "import re\n",
    "\n",
    "names = []\n",
    "\n",
    "with open('companies', 'r') as file:\n",
    "    lines = file.readlines()\n",
    "\n",
    "    for line in lines:\n",
    "        ms = [\n",
    "            re.search('(?<=\\d\\. )[\\w \\.]*', line),\n",
    "            re.search('(?<=\\d\\d\\. )[\\w \\.]*', line),\n",
    "            re.search('(?<=\\d\\d\\d\\. )[\\w \\.]*', line),\n",
    "        ]\n",
    "        for m in ms:\n",
    "            if m:\n",
    "                names.append(f\"'{m.group(0).strip()}'\\n\")\n",
    "\n",
    "        names = list(set(names))\n",
    "\n",
    "with open('companies_parsed', 'w') as file:\n",
    "    file.writelines(names)\n"
   ]
  },
  {
   "cell_type": "code",
   "execution_count": null,
   "id": "b5ca1257",
   "metadata": {},
   "outputs": [],
   "source": []
  }
 ],
 "metadata": {
  "kernelspec": {
   "display_name": "Python 3",
   "language": "python",
   "name": "python3"
  },
  "language_info": {
   "codemirror_mode": {
    "name": "ipython",
    "version": 3
   },
   "file_extension": ".py",
   "mimetype": "text/x-python",
   "name": "python",
   "nbconvert_exporter": "python",
   "pygments_lexer": "ipython3",
   "version": "3.8.10"
  },
  "vscode": {
   "interpreter": {
    "hash": "31f2aee4e71d21fbe5cf8b01ff0e069b9275f58929596ceb00d14d90e3e16cd6"
   }
  }
 },
 "nbformat": 4,
 "nbformat_minor": 5
}
