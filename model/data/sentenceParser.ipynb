{
 "cells": [
  {
   "cell_type": "markdown",
   "id": "a17e8563-5e1f-4e2a-93d6-36f017a6790f",
   "metadata": {},
   "source": [
    "# Parser\n",
    "\n",
    "Code to take some files in the output format of the URL scraper, and translate them to the input format of the Python ML models"
   ]
  },
  {
   "cell_type": "code",
   "execution_count": 2,
   "id": "526fee64-684c-4ec2-bb47-d1407e2e09c7",
   "metadata": {},
   "outputs": [],
   "source": [
    "import json\n",
    "\n",
    "import nltk\n",
    "\n",
    "import random"
   ]
  },
  {
   "cell_type": "code",
   "execution_count": 4,
   "id": "2fd110bf-23bb-4f84-ad3e-cdaa0d2bf2ea",
   "metadata": {},
   "outputs": [],
   "source": [
    "FILES = [\"dailymail.json\", \"guardian.json\", \"bbc.json\"]\n",
    "OUTPUT = \"pairs_unlabelled.json\"\n",
    "\n",
    "TRASH = {\n",
    "    'dailymail.json': 1,\n",
    "    'guardian.json': 1,\n",
    "    'bbc.json': 3,\n",
    "}"
   ]
  },
  {
   "cell_type": "code",
   "execution_count": 6,
   "id": "d7899a25-86b6-40ac-9368-9f4a215df464",
   "metadata": {},
   "outputs": [],
   "source": [
    "random.seed(42)\n",
    "\n",
    "result = {\"data\": []}\n",
    "for file in FILES:\n",
    "    with open(file) as f:\n",
    "        all_entries = json.load(f)\n",
    "        \n",
    "        random.shuffle(all_entries)\n",
    "        \n",
    "        num_entries = len(all_entries)\n",
    "        \n",
    "        entries = all_entries[:num_entries // 2]\n",
    "        for entry in entries:\n",
    "            # Trash the trash\n",
    "            notrash_entry = entry['text'][:-TRASH[file]]\n",
    "            \n",
    "            sentences = nltk.sent_tokenize(\" \".join(notrash_entry))\n",
    "            for s1, s2 in zip(sentences[1:], sentences[:-1]):\n",
    "                result[\"data\"].append(\n",
    "                    {\n",
    "                        \"sen1\": s1,\n",
    "                        \"sen2\": s2,\n",
    "                        \"ans\": 0,  # This means sentences are a continuation of each other\n",
    "                    }\n",
    "                )\n",
    "                \n",
    "            \n",
    "        # Takes the random articles and combines their text into pairs\n",
    "        random_entries = all_entries[num_entries // 2:]\n",
    "        sen1 = []\n",
    "        sen2 = []\n",
    "        \n",
    "        for entry in random_entries:\n",
    "            notrash_entry = entry['text'][:-TRASH[file]]\n",
    "            sentences = nltk.sent_tokenize(\" \".join(notrash_entry))\n",
    "            if len(sen1) < len(sen2):\n",
    "                sen1.extend(sentences)\n",
    "            else:\n",
    "                sen2.extend(sentences)\n",
    "        \n",
    "        min_len = min(len(sen1), len(sen2))\n",
    "        for s1, s2 in zip(sen1[:min_len], sen2[:min_len]):\n",
    "            result[\"data\"].append(\n",
    "                {\n",
    "                    \"sen1\": s1,\n",
    "                    \"sen2\": s2,\n",
    "                    \"ans\": 1,  # This means sentences are a continuation of each other\n",
    "                }\n",
    "            )\n",
    "\n",
    "with open(OUTPUT, \"w\") as f:\n",
    "    json.dump(result, f)"
   ]
  },
  {
   "cell_type": "code",
   "execution_count": null,
   "id": "9a5aa983-b351-440e-9b37-fa2b2903c666",
   "metadata": {},
   "outputs": [],
   "source": []
  }
 ],
 "metadata": {
  "kernelspec": {
   "display_name": "Python 3 (ipykernel)",
   "language": "python",
   "name": "python3"
  },
  "language_info": {
   "codemirror_mode": {
    "name": "ipython",
    "version": 3
   },
   "file_extension": ".py",
   "mimetype": "text/x-python",
   "name": "python",
   "nbconvert_exporter": "python",
   "pygments_lexer": "ipython3",
   "version": "3.8.10"
  }
 },
 "nbformat": 4,
 "nbformat_minor": 5
}
