{
 "cells": [
  {
   "cell_type": "markdown",
   "id": "a17e8563-5e1f-4e2a-93d6-36f017a6790f",
   "metadata": {},
   "source": [
    "# Parser\n",
    "\n",
    "Code to take some files in the output format of the URL scraper, and translate them to the input format of the Python ML models"
   ]
  },
  {
   "cell_type": "code",
   "execution_count": null,
   "id": "526fee64-684c-4ec2-bb47-d1407e2e09c7",
   "metadata": {},
   "outputs": [],
   "source": [
    "import json\n",
    "\n",
    "import nltk\n",
    "\n",
    "import random"
   ]
  },
  {
   "cell_type": "code",
   "execution_count": null,
   "id": "2fd110bf-23bb-4f84-ad3e-cdaa0d2bf2ea",
   "metadata": {},
   "outputs": [],
   "source": [
    "FILES = [\"dailymail.json\", \"guardian.json\", \"bbc.json\"]\n",
    "OUTPUT = \"sanitized_pairs_unlabelled.json\"\n",
    "\n",
    "TRASH = {\n",
    "    'dailymail.json': 1,\n",
    "    'guardian.json': 1,\n",
    "    'bbc.json': 3,\n",
    "}"
   ]
  },
  {
   "cell_type": "code",
   "execution_count": null,
   "id": "d7899a25-86b6-40ac-9368-9f4a215df464",
   "metadata": {},
   "outputs": [
    {
     "ename": "KeyError",
     "evalue": "'corrected_data.json'",
     "output_type": "error",
     "traceback": [
      "\u001b[0;31m---------------------------------------------------------------------------\u001b[0m",
      "\u001b[0;31mKeyError\u001b[0m                                  Traceback (most recent call last)",
      "Cell \u001b[0;32mIn [3], line 28\u001b[0m\n\u001b[1;32m     25\u001b[0m entries \u001b[38;5;241m=\u001b[39m all_entries[:num_entries \u001b[38;5;241m/\u001b[39m\u001b[38;5;241m/\u001b[39m \u001b[38;5;241m2\u001b[39m]\n\u001b[1;32m     26\u001b[0m \u001b[38;5;28;01mfor\u001b[39;00m entry \u001b[38;5;129;01min\u001b[39;00m entries:\n\u001b[1;32m     27\u001b[0m     \u001b[38;5;66;03m# Trash the trash\u001b[39;00m\n\u001b[0;32m---> 28\u001b[0m     notrash_entry \u001b[38;5;241m=\u001b[39m entry[\u001b[38;5;124m'\u001b[39m\u001b[38;5;124mtext\u001b[39m\u001b[38;5;124m'\u001b[39m][:\u001b[38;5;241m-\u001b[39m\u001b[43mTRASH\u001b[49m\u001b[43m[\u001b[49m\u001b[43mfile\u001b[49m\u001b[43m]\u001b[49m]\n\u001b[1;32m     30\u001b[0m     sentences \u001b[38;5;241m=\u001b[39m nltk\u001b[38;5;241m.\u001b[39msent_tokenize(\u001b[38;5;124m\"\u001b[39m\u001b[38;5;124m \u001b[39m\u001b[38;5;124m\"\u001b[39m\u001b[38;5;241m.\u001b[39mjoin(notrash_entry))\n\u001b[1;32m     31\u001b[0m     \u001b[38;5;28;01mfor\u001b[39;00m s1, s2 \u001b[38;5;129;01min\u001b[39;00m \u001b[38;5;28mzip\u001b[39m(sentences[\u001b[38;5;241m1\u001b[39m:], sentences[:\u001b[38;5;241m-\u001b[39m\u001b[38;5;241m1\u001b[39m]):\n",
      "\u001b[0;31mKeyError\u001b[0m: 'corrected_data.json'"
     ]
    }
   ],
   "source": [
    "random.seed(42)\n",
    "\n",
    "keywords = []\n",
    "\n",
    "with open('keywords', 'r') as file:\n",
    "    keywords = [line.strip() for line in file.readlines()]\n",
    "\n",
    "def good(headline):\n",
    "    ai_article = False\n",
    "    for keyword in keywords:\n",
    "        if keyword in headline:\n",
    "            ai_article = True\n",
    "            break\n",
    "    return ai_article\n",
    "\n",
    "result = {\"data\": []}\n",
    "for file in FILES:\n",
    "    with open(file) as f:\n",
    "        all_entries = [entry for entry in json.load(f) if good(entry['main_heading'])]\n",
    "        \n",
    "        random.shuffle(all_entries)\n",
    "        \n",
    "        num_entries = len(all_entries)\n",
    "        \n",
    "        entries = all_entries[:num_entries // 2]\n",
    "        for entry in entries:\n",
    "            # Trash the trash\n",
    "            notrash_entry = entry['text'][:-TRASH[file]]\n",
    "            \n",
    "            sentences = nltk.sent_tokenize(\" \".join(notrash_entry))\n",
    "            for s1, s2 in zip(sentences[1:], sentences[:-1]):\n",
    "                result[\"data\"].append(\n",
    "                    {\n",
    "                        \"sen1\": s1,\n",
    "                        \"sen2\": s2,\n",
    "                        \"ans\": 0,  # This means sentences are a continuation of each other\n",
    "                    }\n",
    "                )\n",
    "                \n",
    "            \n",
    "        # Takes the random articles and combines their text into pairs\n",
    "        random_entries = all_entries[num_entries // 2:]\n",
    "        sen1 = []\n",
    "        sen2 = []\n",
    "        \n",
    "        for entry in random_entries:\n",
    "            notrash_entry = entry['text'][:-TRASH[file]]\n",
    "            sentences = nltk.sent_tokenize(\" \".join(notrash_entry))\n",
    "            if len(sen1) < len(sen2):\n",
    "                sen1.extend(sentences)\n",
    "            else:\n",
    "                sen2.extend(sentences)\n",
    "        \n",
    "        min_len = min(len(sen1), len(sen2))\n",
    "        for s1, s2 in zip(sen1[:min_len], sen2[:min_len]):\n",
    "            result[\"data\"].append(\n",
    "                {\n",
    "                    \"sen1\": s1,\n",
    "                    \"sen2\": s2,\n",
    "                    \"ans\": 1,  # This means sentences are a continuation of each other\n",
    "                }\n",
    "            )\n",
    "\n",
    "with open(OUTPUT, \"w\") as f:\n",
    "    json.dump(result, f)"
   ]
  },
  {
   "cell_type": "code",
   "execution_count": null,
   "id": "9a5aa983-b351-440e-9b37-fa2b2903c666",
   "metadata": {},
   "outputs": [],
   "source": []
  }
 ],
 "metadata": {
  "kernelspec": {
   "display_name": "Python 3 (ipykernel)",
   "language": "python",
   "name": "python3"
  },
  "language_info": {
   "codemirror_mode": {
    "name": "ipython",
    "version": 3
   },
   "file_extension": ".py",
   "mimetype": "text/x-python",
   "name": "python",
   "nbconvert_exporter": "python",
   "pygments_lexer": "ipython3",
   "version": "3.8.10"
  },
  "vscode": {
   "interpreter": {
    "hash": "31f2aee4e71d21fbe5cf8b01ff0e069b9275f58929596ceb00d14d90e3e16cd6"
   }
  }
 },
 "nbformat": 4,
 "nbformat_minor": 5
}
