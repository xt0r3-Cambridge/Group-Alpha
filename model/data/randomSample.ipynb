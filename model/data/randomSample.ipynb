{
 "cells": [
  {
   "cell_type": "code",
   "execution_count": 1,
   "id": "48c10ab2-6176-4c2c-af50-7d677495be58",
   "metadata": {},
   "outputs": [],
   "source": [
    "import json\n",
    "import numpy as np\n",
    "import math"
   ]
  },
  {
   "cell_type": "code",
   "execution_count": 12,
   "id": "5cc81de3-bd5f-4590-80c0-e0263c2c195c",
   "metadata": {},
   "outputs": [],
   "source": [
    "np.random.seed(42)\n",
    "\n",
    "for filepath in [\"dailymail\", \"guardian\"]:\n",
    "    labelled = []\n",
    "    unlabelled = []\n",
    "    with open(f\"{filepath}.json\") as file:\n",
    "        records = json.load(file)\n",
    "        num = len(records)\n",
    "        ratio = 0.1\n",
    "        sample = np.random.choice(num, math.ceil(num * ratio))\n",
    "        \n",
    "        for i in range(num):\n",
    "            if i in sample:\n",
    "                labelled.append(records[i])\n",
    "            else:\n",
    "                unlabelled.append(records[i])\n",
    "    \n",
    "    with open(f\"{filepath}_lab.json\", \"w\") as file:\n",
    "        json.dump(labelled, file)\n",
    "        \n",
    "    with open(f\"{filepath}_unlab.json\", \"w\") as file:\n",
    "        json.dump(unlabelled, file)"
   ]
  },
  {
   "cell_type": "code",
   "execution_count": null,
   "id": "951f00bf",
   "metadata": {},
   "outputs": [],
   "source": [
    "np.random.seed(42)\n",
    "\n",
    "for filepath in [\"data_sanitized.json\"]:\n",
    "    with open(f\"{filepath}.json\") as file:\n",
    "        records = json.load(file)\n",
    "        num = len(records)\n",
    "        ratio = 0.1\n",
    "        sample = np.random.choice(num, math.ceil(num * ratio))\n",
    "        \n",
    "        for i in range(num):\n",
    "            if i in sample:\n",
    "                labelled.append(records[i])\n",
    "            else:\n",
    "                unlabelled.append(records[i])\n",
    "    \n",
    "    with open(f\"{filepath}_lab.json\", \"w\") as file:\n",
    "        json.dump(labelled, file)\n",
    "        \n",
    "    with open(f\"{filepath}_unlab.json\", \"w\") as file:\n",
    "        json.dump(unlabelled, file)"
   ]
  },
  {
   "cell_type": "code",
   "execution_count": null,
   "id": "8bac4c47-fd89-44e7-9dad-de487e3e1b76",
   "metadata": {},
   "outputs": [],
   "source": []
  }
 ],
 "metadata": {
  "kernelspec": {
   "display_name": "Python 3 (ipykernel)",
   "language": "python",
   "name": "python3"
  },
  "language_info": {
   "codemirror_mode": {
    "name": "ipython",
    "version": 3
   },
   "file_extension": ".py",
   "mimetype": "text/x-python",
   "name": "python",
   "nbconvert_exporter": "python",
   "pygments_lexer": "ipython3",
   "version": "3.8.10"
  },
  "vscode": {
   "interpreter": {
    "hash": "31f2aee4e71d21fbe5cf8b01ff0e069b9275f58929596ceb00d14d90e3e16cd6"
   }
  }
 },
 "nbformat": 4,
 "nbformat_minor": 5
}
